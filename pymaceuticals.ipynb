{
  "nbformat": 4,
  "nbformat_minor": 0,
  "metadata": {
    "anaconda-cloud": {},
    "kernelspec": {
      "display_name": "Python 3",
      "language": "python",
      "name": "python3"
    },
    "language_info": {
      "codemirror_mode": {
        "name": "ipython",
        "version": 3
      },
      "file_extension": ".py",
      "mimetype": "text/x-python",
      "name": "python",
      "nbconvert_exporter": "python",
      "pygments_lexer": "ipython3",
      "version": "3.8.3"
    },
    "colab": {
      "name": "pymaceuticals.ipynb",
      "provenance": [],
      "collapsed_sections": [],
      "toc_visible": true
    }
  },
  "cells": [
    {
      "cell_type": "markdown",
      "metadata": {
        "id": "4cCHCyiU1dbG"
      },
      "source": [
        "## Observations and Insights "
      ]
    },
    {
      "cell_type": "code",
      "metadata": {
        "colab": {
          "base_uri": "https://localhost:8080/"
        },
        "id": "NRPR56FB1mpI",
        "outputId": "b265ad59-8670-4fb1-d068-dda752137e76"
      },
      "source": [
        "from google.colab import drive\n",
        "drive.mount('/content/drive')"
      ],
      "execution_count": 1,
      "outputs": [
        {
          "output_type": "stream",
          "text": [
            "Mounted at /content/drive\n"
          ],
          "name": "stdout"
        }
      ]
    },
    {
      "cell_type": "markdown",
      "metadata": {
        "id": "PZHxvV7y1dbN"
      },
      "source": [
        ""
      ]
    },
    {
      "cell_type": "code",
      "metadata": {
        "colab": {
          "base_uri": "https://localhost:8080/",
          "height": 402
        },
        "id": "__V8RqsZ1dbN",
        "outputId": "df2e459b-0e25-4ecc-e9e1-90b4725fe266"
      },
      "source": [
        "# Dependencies and Setup\n",
        "import matplotlib.pyplot as plt\n",
        "import pandas as pd\n",
        "import scipy.stats as st\n",
        "\n",
        "# Study data files\n",
        "mouse_metadata_path = \"/content/drive/MyDrive/Colab Notebooks/Joel/03 MatplotlibHW/Mouse_metadata.csv\"\n",
        "study_results_path = \"/content/drive/MyDrive/Colab Notebooks/Joel/03 MatplotlibHW/Study_results.csv\"\n",
        "\n",
        "# Read the mouse data and the study results\n",
        "mouse_metadata = pd.read_csv(mouse_metadata_path)\n",
        "study_results = pd.read_csv(study_results_path)\n",
        "\n",
        "# Combine the data into a single dataset\n",
        "combineddata = pd.merge(mouse_metadata, study_results, on=\"Mouse ID\")\n",
        "\n",
        "# Display the data table for preview\n",
        "combineddata"
      ],
      "execution_count": 21,
      "outputs": [
        {
          "output_type": "execute_result",
          "data": {
            "text/html": [
              "<div>\n",
              "<style scoped>\n",
              "    .dataframe tbody tr th:only-of-type {\n",
              "        vertical-align: middle;\n",
              "    }\n",
              "\n",
              "    .dataframe tbody tr th {\n",
              "        vertical-align: top;\n",
              "    }\n",
              "\n",
              "    .dataframe thead th {\n",
              "        text-align: right;\n",
              "    }\n",
              "</style>\n",
              "<table border=\"1\" class=\"dataframe\">\n",
              "  <thead>\n",
              "    <tr style=\"text-align: right;\">\n",
              "      <th></th>\n",
              "      <th>Mouse ID</th>\n",
              "      <th>Drug Regimen</th>\n",
              "      <th>Sex</th>\n",
              "      <th>Age_months</th>\n",
              "      <th>Weight (g)</th>\n",
              "      <th>Timepoint</th>\n",
              "      <th>Tumor Volume (mm3)</th>\n",
              "      <th>Metastatic Sites</th>\n",
              "    </tr>\n",
              "  </thead>\n",
              "  <tbody>\n",
              "    <tr>\n",
              "      <th>0</th>\n",
              "      <td>k403</td>\n",
              "      <td>Ramicane</td>\n",
              "      <td>Male</td>\n",
              "      <td>21</td>\n",
              "      <td>16</td>\n",
              "      <td>0</td>\n",
              "      <td>45.000000</td>\n",
              "      <td>0</td>\n",
              "    </tr>\n",
              "    <tr>\n",
              "      <th>1</th>\n",
              "      <td>k403</td>\n",
              "      <td>Ramicane</td>\n",
              "      <td>Male</td>\n",
              "      <td>21</td>\n",
              "      <td>16</td>\n",
              "      <td>5</td>\n",
              "      <td>38.825898</td>\n",
              "      <td>0</td>\n",
              "    </tr>\n",
              "    <tr>\n",
              "      <th>2</th>\n",
              "      <td>k403</td>\n",
              "      <td>Ramicane</td>\n",
              "      <td>Male</td>\n",
              "      <td>21</td>\n",
              "      <td>16</td>\n",
              "      <td>10</td>\n",
              "      <td>35.014271</td>\n",
              "      <td>1</td>\n",
              "    </tr>\n",
              "    <tr>\n",
              "      <th>3</th>\n",
              "      <td>k403</td>\n",
              "      <td>Ramicane</td>\n",
              "      <td>Male</td>\n",
              "      <td>21</td>\n",
              "      <td>16</td>\n",
              "      <td>15</td>\n",
              "      <td>34.223992</td>\n",
              "      <td>1</td>\n",
              "    </tr>\n",
              "    <tr>\n",
              "      <th>4</th>\n",
              "      <td>k403</td>\n",
              "      <td>Ramicane</td>\n",
              "      <td>Male</td>\n",
              "      <td>21</td>\n",
              "      <td>16</td>\n",
              "      <td>20</td>\n",
              "      <td>32.997729</td>\n",
              "      <td>1</td>\n",
              "    </tr>\n",
              "    <tr>\n",
              "      <th>...</th>\n",
              "      <td>...</td>\n",
              "      <td>...</td>\n",
              "      <td>...</td>\n",
              "      <td>...</td>\n",
              "      <td>...</td>\n",
              "      <td>...</td>\n",
              "      <td>...</td>\n",
              "      <td>...</td>\n",
              "    </tr>\n",
              "    <tr>\n",
              "      <th>1888</th>\n",
              "      <td>z969</td>\n",
              "      <td>Naftisol</td>\n",
              "      <td>Male</td>\n",
              "      <td>9</td>\n",
              "      <td>30</td>\n",
              "      <td>25</td>\n",
              "      <td>63.145652</td>\n",
              "      <td>2</td>\n",
              "    </tr>\n",
              "    <tr>\n",
              "      <th>1889</th>\n",
              "      <td>z969</td>\n",
              "      <td>Naftisol</td>\n",
              "      <td>Male</td>\n",
              "      <td>9</td>\n",
              "      <td>30</td>\n",
              "      <td>30</td>\n",
              "      <td>65.841013</td>\n",
              "      <td>3</td>\n",
              "    </tr>\n",
              "    <tr>\n",
              "      <th>1890</th>\n",
              "      <td>z969</td>\n",
              "      <td>Naftisol</td>\n",
              "      <td>Male</td>\n",
              "      <td>9</td>\n",
              "      <td>30</td>\n",
              "      <td>35</td>\n",
              "      <td>69.176246</td>\n",
              "      <td>4</td>\n",
              "    </tr>\n",
              "    <tr>\n",
              "      <th>1891</th>\n",
              "      <td>z969</td>\n",
              "      <td>Naftisol</td>\n",
              "      <td>Male</td>\n",
              "      <td>9</td>\n",
              "      <td>30</td>\n",
              "      <td>40</td>\n",
              "      <td>70.314904</td>\n",
              "      <td>4</td>\n",
              "    </tr>\n",
              "    <tr>\n",
              "      <th>1892</th>\n",
              "      <td>z969</td>\n",
              "      <td>Naftisol</td>\n",
              "      <td>Male</td>\n",
              "      <td>9</td>\n",
              "      <td>30</td>\n",
              "      <td>45</td>\n",
              "      <td>73.867845</td>\n",
              "      <td>4</td>\n",
              "    </tr>\n",
              "  </tbody>\n",
              "</table>\n",
              "<p>1893 rows × 8 columns</p>\n",
              "</div>"
            ],
            "text/plain": [
              "     Mouse ID Drug Regimen  ... Tumor Volume (mm3)  Metastatic Sites\n",
              "0        k403     Ramicane  ...          45.000000                 0\n",
              "1        k403     Ramicane  ...          38.825898                 0\n",
              "2        k403     Ramicane  ...          35.014271                 1\n",
              "3        k403     Ramicane  ...          34.223992                 1\n",
              "4        k403     Ramicane  ...          32.997729                 1\n",
              "...       ...          ...  ...                ...               ...\n",
              "1888     z969     Naftisol  ...          63.145652                 2\n",
              "1889     z969     Naftisol  ...          65.841013                 3\n",
              "1890     z969     Naftisol  ...          69.176246                 4\n",
              "1891     z969     Naftisol  ...          70.314904                 4\n",
              "1892     z969     Naftisol  ...          73.867845                 4\n",
              "\n",
              "[1893 rows x 8 columns]"
            ]
          },
          "metadata": {
            "tags": []
          },
          "execution_count": 21
        }
      ]
    },
    {
      "cell_type": "code",
      "metadata": {
        "colab": {
          "base_uri": "https://localhost:8080/"
        },
        "id": "nYa1G7QT1dbO",
        "outputId": "d160836e-d583-48f5-e544-ef9ddbdadd4f"
      },
      "source": [
        "# Checking the number of mice.\n",
        "len(pd.unique(combineddata[\"Mouse ID\"])) "
      ],
      "execution_count": 33,
      "outputs": [
        {
          "output_type": "execute_result",
          "data": {
            "text/plain": [
              "249"
            ]
          },
          "metadata": {
            "tags": []
          },
          "execution_count": 33
        }
      ]
    },
    {
      "cell_type": "code",
      "metadata": {
        "colab": {
          "base_uri": "https://localhost:8080/",
          "height": 195
        },
        "id": "1x1ad6HO1dbP",
        "outputId": "89985f75-ee2a-483e-f478-6f0a7cd7c53e"
      },
      "source": [
        "# Getting the duplicate mice by ID number that shows up for Mouse ID and Timepoint. \n",
        "combineddata[combineddata.duplicated(subset=[\"Mouse ID\",\"Timepoint\"])]"
      ],
      "execution_count": 35,
      "outputs": [
        {
          "output_type": "execute_result",
          "data": {
            "text/html": [
              "<div>\n",
              "<style scoped>\n",
              "    .dataframe tbody tr th:only-of-type {\n",
              "        vertical-align: middle;\n",
              "    }\n",
              "\n",
              "    .dataframe tbody tr th {\n",
              "        vertical-align: top;\n",
              "    }\n",
              "\n",
              "    .dataframe thead th {\n",
              "        text-align: right;\n",
              "    }\n",
              "</style>\n",
              "<table border=\"1\" class=\"dataframe\">\n",
              "  <thead>\n",
              "    <tr style=\"text-align: right;\">\n",
              "      <th></th>\n",
              "      <th>Mouse ID</th>\n",
              "      <th>Drug Regimen</th>\n",
              "      <th>Sex</th>\n",
              "      <th>Age_months</th>\n",
              "      <th>Weight (g)</th>\n",
              "      <th>Timepoint</th>\n",
              "      <th>Tumor Volume (mm3)</th>\n",
              "      <th>Metastatic Sites</th>\n",
              "    </tr>\n",
              "  </thead>\n",
              "  <tbody>\n",
              "    <tr>\n",
              "      <th>909</th>\n",
              "      <td>g989</td>\n",
              "      <td>Propriva</td>\n",
              "      <td>Female</td>\n",
              "      <td>21</td>\n",
              "      <td>26</td>\n",
              "      <td>0</td>\n",
              "      <td>45.000000</td>\n",
              "      <td>0</td>\n",
              "    </tr>\n",
              "    <tr>\n",
              "      <th>911</th>\n",
              "      <td>g989</td>\n",
              "      <td>Propriva</td>\n",
              "      <td>Female</td>\n",
              "      <td>21</td>\n",
              "      <td>26</td>\n",
              "      <td>5</td>\n",
              "      <td>47.570392</td>\n",
              "      <td>0</td>\n",
              "    </tr>\n",
              "    <tr>\n",
              "      <th>913</th>\n",
              "      <td>g989</td>\n",
              "      <td>Propriva</td>\n",
              "      <td>Female</td>\n",
              "      <td>21</td>\n",
              "      <td>26</td>\n",
              "      <td>10</td>\n",
              "      <td>49.880528</td>\n",
              "      <td>0</td>\n",
              "    </tr>\n",
              "    <tr>\n",
              "      <th>915</th>\n",
              "      <td>g989</td>\n",
              "      <td>Propriva</td>\n",
              "      <td>Female</td>\n",
              "      <td>21</td>\n",
              "      <td>26</td>\n",
              "      <td>15</td>\n",
              "      <td>53.442020</td>\n",
              "      <td>0</td>\n",
              "    </tr>\n",
              "    <tr>\n",
              "      <th>917</th>\n",
              "      <td>g989</td>\n",
              "      <td>Propriva</td>\n",
              "      <td>Female</td>\n",
              "      <td>21</td>\n",
              "      <td>26</td>\n",
              "      <td>20</td>\n",
              "      <td>54.657650</td>\n",
              "      <td>1</td>\n",
              "    </tr>\n",
              "  </tbody>\n",
              "</table>\n",
              "</div>"
            ],
            "text/plain": [
              "    Mouse ID Drug Regimen  ... Tumor Volume (mm3)  Metastatic Sites\n",
              "909     g989     Propriva  ...          45.000000                 0\n",
              "911     g989     Propriva  ...          47.570392                 0\n",
              "913     g989     Propriva  ...          49.880528                 0\n",
              "915     g989     Propriva  ...          53.442020                 0\n",
              "917     g989     Propriva  ...          54.657650                 1\n",
              "\n",
              "[5 rows x 8 columns]"
            ]
          },
          "metadata": {
            "tags": []
          },
          "execution_count": 35
        }
      ]
    },
    {
      "cell_type": "code",
      "metadata": {
        "colab": {
          "base_uri": "https://localhost:8080/",
          "height": 432
        },
        "id": "NG_OKkCS1dbP",
        "outputId": "4ad555f7-fa23-485f-bcfe-b8b21c053cfc"
      },
      "source": [
        "# Optional: Get all the data for the duplicate mouse ID. \n",
        "combineddata.loc[combineddata[\"Mouse ID\"] == \"g989\"]"
      ],
      "execution_count": 36,
      "outputs": [
        {
          "output_type": "execute_result",
          "data": {
            "text/html": [
              "<div>\n",
              "<style scoped>\n",
              "    .dataframe tbody tr th:only-of-type {\n",
              "        vertical-align: middle;\n",
              "    }\n",
              "\n",
              "    .dataframe tbody tr th {\n",
              "        vertical-align: top;\n",
              "    }\n",
              "\n",
              "    .dataframe thead th {\n",
              "        text-align: right;\n",
              "    }\n",
              "</style>\n",
              "<table border=\"1\" class=\"dataframe\">\n",
              "  <thead>\n",
              "    <tr style=\"text-align: right;\">\n",
              "      <th></th>\n",
              "      <th>Mouse ID</th>\n",
              "      <th>Drug Regimen</th>\n",
              "      <th>Sex</th>\n",
              "      <th>Age_months</th>\n",
              "      <th>Weight (g)</th>\n",
              "      <th>Timepoint</th>\n",
              "      <th>Tumor Volume (mm3)</th>\n",
              "      <th>Metastatic Sites</th>\n",
              "    </tr>\n",
              "  </thead>\n",
              "  <tbody>\n",
              "    <tr>\n",
              "      <th>908</th>\n",
              "      <td>g989</td>\n",
              "      <td>Propriva</td>\n",
              "      <td>Female</td>\n",
              "      <td>21</td>\n",
              "      <td>26</td>\n",
              "      <td>0</td>\n",
              "      <td>45.000000</td>\n",
              "      <td>0</td>\n",
              "    </tr>\n",
              "    <tr>\n",
              "      <th>909</th>\n",
              "      <td>g989</td>\n",
              "      <td>Propriva</td>\n",
              "      <td>Female</td>\n",
              "      <td>21</td>\n",
              "      <td>26</td>\n",
              "      <td>0</td>\n",
              "      <td>45.000000</td>\n",
              "      <td>0</td>\n",
              "    </tr>\n",
              "    <tr>\n",
              "      <th>910</th>\n",
              "      <td>g989</td>\n",
              "      <td>Propriva</td>\n",
              "      <td>Female</td>\n",
              "      <td>21</td>\n",
              "      <td>26</td>\n",
              "      <td>5</td>\n",
              "      <td>48.786801</td>\n",
              "      <td>0</td>\n",
              "    </tr>\n",
              "    <tr>\n",
              "      <th>911</th>\n",
              "      <td>g989</td>\n",
              "      <td>Propriva</td>\n",
              "      <td>Female</td>\n",
              "      <td>21</td>\n",
              "      <td>26</td>\n",
              "      <td>5</td>\n",
              "      <td>47.570392</td>\n",
              "      <td>0</td>\n",
              "    </tr>\n",
              "    <tr>\n",
              "      <th>912</th>\n",
              "      <td>g989</td>\n",
              "      <td>Propriva</td>\n",
              "      <td>Female</td>\n",
              "      <td>21</td>\n",
              "      <td>26</td>\n",
              "      <td>10</td>\n",
              "      <td>51.745156</td>\n",
              "      <td>0</td>\n",
              "    </tr>\n",
              "    <tr>\n",
              "      <th>913</th>\n",
              "      <td>g989</td>\n",
              "      <td>Propriva</td>\n",
              "      <td>Female</td>\n",
              "      <td>21</td>\n",
              "      <td>26</td>\n",
              "      <td>10</td>\n",
              "      <td>49.880528</td>\n",
              "      <td>0</td>\n",
              "    </tr>\n",
              "    <tr>\n",
              "      <th>914</th>\n",
              "      <td>g989</td>\n",
              "      <td>Propriva</td>\n",
              "      <td>Female</td>\n",
              "      <td>21</td>\n",
              "      <td>26</td>\n",
              "      <td>15</td>\n",
              "      <td>51.325852</td>\n",
              "      <td>1</td>\n",
              "    </tr>\n",
              "    <tr>\n",
              "      <th>915</th>\n",
              "      <td>g989</td>\n",
              "      <td>Propriva</td>\n",
              "      <td>Female</td>\n",
              "      <td>21</td>\n",
              "      <td>26</td>\n",
              "      <td>15</td>\n",
              "      <td>53.442020</td>\n",
              "      <td>0</td>\n",
              "    </tr>\n",
              "    <tr>\n",
              "      <th>916</th>\n",
              "      <td>g989</td>\n",
              "      <td>Propriva</td>\n",
              "      <td>Female</td>\n",
              "      <td>21</td>\n",
              "      <td>26</td>\n",
              "      <td>20</td>\n",
              "      <td>55.326122</td>\n",
              "      <td>1</td>\n",
              "    </tr>\n",
              "    <tr>\n",
              "      <th>917</th>\n",
              "      <td>g989</td>\n",
              "      <td>Propriva</td>\n",
              "      <td>Female</td>\n",
              "      <td>21</td>\n",
              "      <td>26</td>\n",
              "      <td>20</td>\n",
              "      <td>54.657650</td>\n",
              "      <td>1</td>\n",
              "    </tr>\n",
              "    <tr>\n",
              "      <th>918</th>\n",
              "      <td>g989</td>\n",
              "      <td>Propriva</td>\n",
              "      <td>Female</td>\n",
              "      <td>21</td>\n",
              "      <td>26</td>\n",
              "      <td>25</td>\n",
              "      <td>56.045564</td>\n",
              "      <td>1</td>\n",
              "    </tr>\n",
              "    <tr>\n",
              "      <th>919</th>\n",
              "      <td>g989</td>\n",
              "      <td>Propriva</td>\n",
              "      <td>Female</td>\n",
              "      <td>21</td>\n",
              "      <td>26</td>\n",
              "      <td>30</td>\n",
              "      <td>59.082294</td>\n",
              "      <td>1</td>\n",
              "    </tr>\n",
              "    <tr>\n",
              "      <th>920</th>\n",
              "      <td>g989</td>\n",
              "      <td>Propriva</td>\n",
              "      <td>Female</td>\n",
              "      <td>21</td>\n",
              "      <td>26</td>\n",
              "      <td>35</td>\n",
              "      <td>62.570880</td>\n",
              "      <td>2</td>\n",
              "    </tr>\n",
              "  </tbody>\n",
              "</table>\n",
              "</div>"
            ],
            "text/plain": [
              "    Mouse ID Drug Regimen  ... Tumor Volume (mm3)  Metastatic Sites\n",
              "908     g989     Propriva  ...          45.000000                 0\n",
              "909     g989     Propriva  ...          45.000000                 0\n",
              "910     g989     Propriva  ...          48.786801                 0\n",
              "911     g989     Propriva  ...          47.570392                 0\n",
              "912     g989     Propriva  ...          51.745156                 0\n",
              "913     g989     Propriva  ...          49.880528                 0\n",
              "914     g989     Propriva  ...          51.325852                 1\n",
              "915     g989     Propriva  ...          53.442020                 0\n",
              "916     g989     Propriva  ...          55.326122                 1\n",
              "917     g989     Propriva  ...          54.657650                 1\n",
              "918     g989     Propriva  ...          56.045564                 1\n",
              "919     g989     Propriva  ...          59.082294                 1\n",
              "920     g989     Propriva  ...          62.570880                 2\n",
              "\n",
              "[13 rows x 8 columns]"
            ]
          },
          "metadata": {
            "tags": []
          },
          "execution_count": 36
        }
      ]
    },
    {
      "cell_type": "code",
      "metadata": {
        "id": "O8AQHN_C1dbQ"
      },
      "source": [
        "# Create a clean DataFrame by dropping the duplicate mouse by its ID.\n",
        "cleaneddata = combineddata.drop(combineddata.loc[combineddata[\"Mouse ID\"] == \"g989\"].index)"
      ],
      "execution_count": 42,
      "outputs": []
    },
    {
      "cell_type": "code",
      "metadata": {
        "colab": {
          "base_uri": "https://localhost:8080/"
        },
        "id": "3Eob-JmU1dbQ",
        "outputId": "9d16ae22-bfec-4ca7-f8c4-7e01be74f293"
      },
      "source": [
        "# Checking the number of mice in the clean DataFrame.\n",
        "len(pd.unique(cleaneddata[\"Mouse ID\"])) "
      ],
      "execution_count": 43,
      "outputs": [
        {
          "output_type": "execute_result",
          "data": {
            "text/plain": [
              "248"
            ]
          },
          "metadata": {
            "tags": []
          },
          "execution_count": 43
        }
      ]
    },
    {
      "cell_type": "markdown",
      "metadata": {
        "id": "DZQQWpaY1dbQ"
      },
      "source": [
        "## Summary Statistics"
      ]
    },
    {
      "cell_type": "code",
      "metadata": {
        "colab": {
          "base_uri": "https://localhost:8080/",
          "height": 373
        },
        "id": "EXUqH5NL1dbQ",
        "outputId": "92eb9a3d-8029-4de6-bf96-4229f6196690"
      },
      "source": [
        "# Generate a summary statistics table of mean, median, variance, standard deviation, and SEM of the tumor volume for each regimen\n",
        "\n",
        "# Use groupby and summary statistical methods to calculate the following properties of each drug regimen: \n",
        "# mean, median, variance, standard deviation, and SEM of the tumor volume. \n",
        "\n",
        "## Select the columns of interest for the task \n",
        "data = cleaneddata[[\"Drug Regimen\",\"Tumor Volume (mm3)\"]]\n",
        "\n",
        "## Group by regimen and calculate mean\n",
        "meanperregimen = data.groupby(\"Drug Regimen\").mean()\n",
        "\n",
        "## Group by regimen and calculate median\n",
        "medianperregimen = data.groupby(\"Drug Regimen\").median()\n",
        "\n",
        "## Group by regimen and calculate variance\n",
        "varperregimen = data.groupby(\"Drug Regimen\").var()\n",
        "\n",
        "## Group by regimen and standard deviation\n",
        "stdperregimen = data.groupby(\"Drug Regimen\").std()\n",
        "\n",
        "## Group by regimen and calculate SEM\n",
        "semperregimen = data.groupby(\"Drug Regimen\").sem()\n",
        "\n",
        "# Assemble the resulting series into a single summary dataframe.\n",
        "summarydf = pd.concat([meanperregimen,medianperregimen,varperregimen,stdperregimen,semperregimen], axis=1)\n",
        "\n",
        "## Establish labels for the columns\n",
        "summarydf.columns=[\"Mean\",\"Median\",\"Variance\",\"Standard Deviation\",\"SEM\"]\n",
        "\n",
        "## Display\n",
        "summarydf"
      ],
      "execution_count": 67,
      "outputs": [
        {
          "output_type": "execute_result",
          "data": {
            "text/html": [
              "<div>\n",
              "<style scoped>\n",
              "    .dataframe tbody tr th:only-of-type {\n",
              "        vertical-align: middle;\n",
              "    }\n",
              "\n",
              "    .dataframe tbody tr th {\n",
              "        vertical-align: top;\n",
              "    }\n",
              "\n",
              "    .dataframe thead th {\n",
              "        text-align: right;\n",
              "    }\n",
              "</style>\n",
              "<table border=\"1\" class=\"dataframe\">\n",
              "  <thead>\n",
              "    <tr style=\"text-align: right;\">\n",
              "      <th></th>\n",
              "      <th>Mean</th>\n",
              "      <th>Median</th>\n",
              "      <th>Variance</th>\n",
              "      <th>Standard Deviation</th>\n",
              "      <th>SEM</th>\n",
              "    </tr>\n",
              "    <tr>\n",
              "      <th>Drug Regimen</th>\n",
              "      <th></th>\n",
              "      <th></th>\n",
              "      <th></th>\n",
              "      <th></th>\n",
              "      <th></th>\n",
              "    </tr>\n",
              "  </thead>\n",
              "  <tbody>\n",
              "    <tr>\n",
              "      <th>Capomulin</th>\n",
              "      <td>40.675741</td>\n",
              "      <td>41.557809</td>\n",
              "      <td>24.947764</td>\n",
              "      <td>4.994774</td>\n",
              "      <td>0.329346</td>\n",
              "    </tr>\n",
              "    <tr>\n",
              "      <th>Ceftamin</th>\n",
              "      <td>52.591172</td>\n",
              "      <td>51.776157</td>\n",
              "      <td>39.290177</td>\n",
              "      <td>6.268188</td>\n",
              "      <td>0.469821</td>\n",
              "    </tr>\n",
              "    <tr>\n",
              "      <th>Infubinol</th>\n",
              "      <td>52.884795</td>\n",
              "      <td>51.820584</td>\n",
              "      <td>43.128684</td>\n",
              "      <td>6.567243</td>\n",
              "      <td>0.492236</td>\n",
              "    </tr>\n",
              "    <tr>\n",
              "      <th>Ketapril</th>\n",
              "      <td>55.235638</td>\n",
              "      <td>53.698743</td>\n",
              "      <td>68.553577</td>\n",
              "      <td>8.279709</td>\n",
              "      <td>0.603860</td>\n",
              "    </tr>\n",
              "    <tr>\n",
              "      <th>Naftisol</th>\n",
              "      <td>54.331565</td>\n",
              "      <td>52.509285</td>\n",
              "      <td>66.173479</td>\n",
              "      <td>8.134708</td>\n",
              "      <td>0.596466</td>\n",
              "    </tr>\n",
              "    <tr>\n",
              "      <th>Placebo</th>\n",
              "      <td>54.033581</td>\n",
              "      <td>52.288934</td>\n",
              "      <td>61.168083</td>\n",
              "      <td>7.821003</td>\n",
              "      <td>0.581331</td>\n",
              "    </tr>\n",
              "    <tr>\n",
              "      <th>Propriva</th>\n",
              "      <td>52.320930</td>\n",
              "      <td>50.446266</td>\n",
              "      <td>43.852013</td>\n",
              "      <td>6.622085</td>\n",
              "      <td>0.544332</td>\n",
              "    </tr>\n",
              "    <tr>\n",
              "      <th>Ramicane</th>\n",
              "      <td>40.216745</td>\n",
              "      <td>40.673236</td>\n",
              "      <td>23.486704</td>\n",
              "      <td>4.846308</td>\n",
              "      <td>0.320955</td>\n",
              "    </tr>\n",
              "    <tr>\n",
              "      <th>Stelasyn</th>\n",
              "      <td>54.233149</td>\n",
              "      <td>52.431737</td>\n",
              "      <td>59.450562</td>\n",
              "      <td>7.710419</td>\n",
              "      <td>0.573111</td>\n",
              "    </tr>\n",
              "    <tr>\n",
              "      <th>Zoniferol</th>\n",
              "      <td>53.236507</td>\n",
              "      <td>51.818479</td>\n",
              "      <td>48.533355</td>\n",
              "      <td>6.966589</td>\n",
              "      <td>0.516398</td>\n",
              "    </tr>\n",
              "  </tbody>\n",
              "</table>\n",
              "</div>"
            ],
            "text/plain": [
              "                   Mean     Median   Variance  Standard Deviation       SEM\n",
              "Drug Regimen                                                               \n",
              "Capomulin     40.675741  41.557809  24.947764            4.994774  0.329346\n",
              "Ceftamin      52.591172  51.776157  39.290177            6.268188  0.469821\n",
              "Infubinol     52.884795  51.820584  43.128684            6.567243  0.492236\n",
              "Ketapril      55.235638  53.698743  68.553577            8.279709  0.603860\n",
              "Naftisol      54.331565  52.509285  66.173479            8.134708  0.596466\n",
              "Placebo       54.033581  52.288934  61.168083            7.821003  0.581331\n",
              "Propriva      52.320930  50.446266  43.852013            6.622085  0.544332\n",
              "Ramicane      40.216745  40.673236  23.486704            4.846308  0.320955\n",
              "Stelasyn      54.233149  52.431737  59.450562            7.710419  0.573111\n",
              "Zoniferol     53.236507  51.818479  48.533355            6.966589  0.516398"
            ]
          },
          "metadata": {
            "tags": []
          },
          "execution_count": 67
        }
      ]
    },
    {
      "cell_type": "code",
      "metadata": {
        "colab": {
          "base_uri": "https://localhost:8080/",
          "height": 77
        },
        "id": "oQ20Y7vi1dbR",
        "outputId": "6eb628fa-6c6a-40d2-c1ca-f9ad405eddda"
      },
      "source": [
        "# Generate a summary statistics table of mean, median, variance, standard deviation, and SEM of the tumor volume for each regimen\n",
        "## This task seems to be repeated or might be just a duplicated section name\n",
        "\n",
        "# Using the aggregation method, produce the same summary statistics in a single line\n",
        "\n",
        "## Creating a one line dataframe along with labels for its columns\n",
        "onelinesummary = pd.DataFrame([[cleaneddata[\"Tumor Volume (mm3)\"].mean(),\n",
        "                               cleaneddata[\"Tumor Volume (mm3)\"].median(),\n",
        "                               cleaneddata[\"Tumor Volume (mm3)\"].var(),\n",
        "                               cleaneddata[\"Tumor Volume (mm3)\"].std(),\n",
        "                               cleaneddata[\"Tumor Volume (mm3)\"].sem()]],\n",
        "                              columns=[\"Mean\",\"Median\",\"Variance\",\"Standard Deviation\",\"SEM\"])   \n",
        "## Display\n",
        "onelinesummary"
      ],
      "execution_count": 79,
      "outputs": [
        {
          "output_type": "execute_result",
          "data": {
            "text/html": [
              "<div>\n",
              "<style scoped>\n",
              "    .dataframe tbody tr th:only-of-type {\n",
              "        vertical-align: middle;\n",
              "    }\n",
              "\n",
              "    .dataframe tbody tr th {\n",
              "        vertical-align: top;\n",
              "    }\n",
              "\n",
              "    .dataframe thead th {\n",
              "        text-align: right;\n",
              "    }\n",
              "</style>\n",
              "<table border=\"1\" class=\"dataframe\">\n",
              "  <thead>\n",
              "    <tr style=\"text-align: right;\">\n",
              "      <th></th>\n",
              "      <th>Mean</th>\n",
              "      <th>Median</th>\n",
              "      <th>Variance</th>\n",
              "      <th>Standard Deviation</th>\n",
              "      <th>SEM</th>\n",
              "    </tr>\n",
              "  </thead>\n",
              "  <tbody>\n",
              "    <tr>\n",
              "      <th>0</th>\n",
              "      <td>50.435293</td>\n",
              "      <td>48.933454</td>\n",
              "      <td>79.462907</td>\n",
              "      <td>8.914197</td>\n",
              "      <td>0.205591</td>\n",
              "    </tr>\n",
              "  </tbody>\n",
              "</table>\n",
              "</div>"
            ],
            "text/plain": [
              "        Mean     Median   Variance  Standard Deviation       SEM\n",
              "0  50.435293  48.933454  79.462907            8.914197  0.205591"
            ]
          },
          "metadata": {
            "tags": []
          },
          "execution_count": 79
        }
      ]
    },
    {
      "cell_type": "markdown",
      "metadata": {
        "id": "44SmtF2-1dbR"
      },
      "source": [
        "## Bar and Pie Charts"
      ]
    },
    {
      "cell_type": "code",
      "metadata": {
        "colab": {
          "base_uri": "https://localhost:8080/",
          "height": 296
        },
        "id": "Ow75PVjq1dbR",
        "outputId": "49aa269a-4194-4f9f-9df9-d9e1f1e97377"
      },
      "source": [
        "# Generate a bar plot showing the total number of measurements taken on each drug regimen using pandas.\n",
        "\n",
        "## Select the columns of interest for the task \n",
        "data = cleaneddata[[\"Drug Regimen\",\"Tumor Volume (mm3)\"]]\n",
        "\n",
        "## Group by regimen and count\n",
        "amountperregimen = data.groupby(\"Drug Regimen\").count()\n",
        "\n",
        "## Generate and display bar plot\n",
        "amountperregimen.plot.bar(rot=0)"
      ],
      "execution_count": 87,
      "outputs": [
        {
          "output_type": "execute_result",
          "data": {
            "text/plain": [
              "<matplotlib.axes._subplots.AxesSubplot at 0x7f8b4d800510>"
            ]
          },
          "metadata": {
            "tags": []
          },
          "execution_count": 87
        },
        {
          "output_type": "display_data",
          "data": {
            "image/png": "[encoded data removed]",
            "text/plain": [
              "<Figure size 432x288 with 1 Axes>"
            ]
          },
          "metadata": {
            "tags": [],
            "needs_background": "light"
          }
        }
      ]
    },
    {
      "cell_type": "code",
      "metadata": {
        "colab": {
          "base_uri": "https://localhost:8080/",
          "height": 312
        },
        "id": "5nYeqqc91dbS",
        "outputId": "55a9aac6-68ba-4d68-846b-a6a574637855"
      },
      "source": [
        "# Generate a bar plot showing the total number of measurements taken on each drug regimen using pyplot.\n",
        "\n",
        "## Regenerate amountperregimen\n",
        "amountperregimen = data.groupby(\"Drug Regimen\").count()\n",
        "\n",
        "## Turn Index Column into a Regular Column in amountperregimen\n",
        "amountperregimen.reset_index(inplace=True)\n",
        "\n",
        "## Generate and display bar plot\n",
        "plt.bar(amountperregimen[\"Drug Regimen\"],amountperregimen[\"Tumor Volume (mm3)\"])\n",
        "plt.title(\"Number of Measurements Taken per Drug Regimen\")\n",
        "plt.ylabel(\"Number of Measurements Taken\")\n",
        "plt.xlabel(\"Drug Regimen\")"
      ],
      "execution_count": 207,
      "outputs": [
        {
          "output_type": "execute_result",
          "data": {
            "text/plain": [
              "Text(0.5, 0, 'Drug Regimen')"
            ]
          },
          "metadata": {
            "tags": []
          },
          "execution_count": 207
        },
        {
          "output_type": "display_data",
          "data": {
            "image/png": "[encoded data removed]",
            "text/plain": [
              "<Figure size 432x288 with 1 Axes>"
            ]
          },
          "metadata": {
            "tags": [],
            "needs_background": "light"
          }
        }
      ]
    },
    {
      "cell_type": "code",
      "metadata": {
        "colab": {
          "base_uri": "https://localhost:8080/",
          "height": 265
        },
        "id": "EFuWaw_V1dbS",
        "outputId": "4a093c54-e42d-4423-ee90-24efde63d924"
      },
      "source": [
        "# Generate a pie plot showing the distribution of female versus male mice using pandas\n",
        "\n",
        "## Calculate distribution\n",
        "distribution = cleaneddata[\"Sex\"].value_counts(normalize=True)\n",
        "\n",
        "## Generate and display pie plot\n",
        "distribution.plot.pie()"
      ],
      "execution_count": 102,
      "outputs": [
        {
          "output_type": "execute_result",
          "data": {
            "text/plain": [
              "<matplotlib.axes._subplots.AxesSubplot at 0x7f8b4c154550>"
            ]
          },
          "metadata": {
            "tags": []
          },
          "execution_count": 102
        },
        {
          "output_type": "display_data",
          "data": {
            "image/png": "[encoded data removed]",
            "text/plain": [
              "<Figure size 432x288 with 1 Axes>"
            ]
          },
          "metadata": {
            "tags": []
          }
        }
      ]
    },
    {
      "cell_type": "code",
      "metadata": {
        "colab": {
          "base_uri": "https://localhost:8080/",
          "height": 281
        },
        "id": "oqrJOwEM1dbS",
        "outputId": "c0df46c9-76d6-49e3-ae7f-42743fece123"
      },
      "source": [
        "# Generate a pie plot showing the distribution of female versus male mice using pyplot\n",
        "\n",
        "## Generate and display pie plot\n",
        "plt.pie(distribution)\n",
        "plt.title(\"Distribution of Female vs Male Mice\")\n",
        "plt.ylabel(\"Sex\")"
      ],
      "execution_count": 209,
      "outputs": [
        {
          "output_type": "execute_result",
          "data": {
            "text/plain": [
              "Text(0, 0.5, 'Sex')"
            ]
          },
          "metadata": {
            "tags": []
          },
          "execution_count": 209
        },
        {
          "output_type": "display_data",
          "data": {
            "image/png": "[encoded data removed]",
            "text/plain": [
              "<Figure size 432x288 with 1 Axes>"
            ]
          },
          "metadata": {
            "tags": []
          }
        }
      ]
    },
    {
      "cell_type": "markdown",
      "metadata": {
        "id": "M6ZwtvwN1dbS"
      },
      "source": [
        "## Quartiles, Outliers and Boxplots"
      ]
    },
    {
      "cell_type": "code",
      "metadata": {
        "colab": {
          "base_uri": "https://localhost:8080/",
          "height": 402
        },
        "id": "KrbaBCIc1dbT",
        "outputId": "761de93d-654c-4f0b-ed0f-e2b692730d5d"
      },
      "source": [
        "# Calculate the final tumor volume of each mouse across four of the treatment regimens:  \n",
        "# Capomulin, Ramicane, Infubinol, and Ceftamin\n",
        "\n",
        "# Start by getting the last (greatest) timepoint for each mouse\n",
        "## Deleting all rows with the same Mouse ID only leaving the last row which is also the greatest timepoint\n",
        "cleaneddata2 = cleaneddata.drop_duplicates(subset=[\"Mouse ID\"], keep=\"last\")\n",
        "\n",
        "# Merge this group df with the original dataframe to get the tumor volume at the last timepoint\n",
        "## Not neccesary with the previous approach"
      ],
      "execution_count": 115,
      "outputs": [
        {
          "output_type": "execute_result",
          "data": {
            "text/html": [
              "<div>\n",
              "<style scoped>\n",
              "    .dataframe tbody tr th:only-of-type {\n",
              "        vertical-align: middle;\n",
              "    }\n",
              "\n",
              "    .dataframe tbody tr th {\n",
              "        vertical-align: top;\n",
              "    }\n",
              "\n",
              "    .dataframe thead th {\n",
              "        text-align: right;\n",
              "    }\n",
              "</style>\n",
              "<table border=\"1\" class=\"dataframe\">\n",
              "  <thead>\n",
              "    <tr style=\"text-align: right;\">\n",
              "      <th></th>\n",
              "      <th>Mouse ID</th>\n",
              "      <th>Drug Regimen</th>\n",
              "      <th>Sex</th>\n",
              "      <th>Age_months</th>\n",
              "      <th>Weight (g)</th>\n",
              "      <th>Timepoint</th>\n",
              "      <th>Tumor Volume (mm3)</th>\n",
              "      <th>Metastatic Sites</th>\n",
              "    </tr>\n",
              "  </thead>\n",
              "  <tbody>\n",
              "    <tr>\n",
              "      <th>9</th>\n",
              "      <td>k403</td>\n",
              "      <td>Ramicane</td>\n",
              "      <td>Male</td>\n",
              "      <td>21</td>\n",
              "      <td>16</td>\n",
              "      <td>45</td>\n",
              "      <td>22.050126</td>\n",
              "      <td>1</td>\n",
              "    </tr>\n",
              "    <tr>\n",
              "      <th>19</th>\n",
              "      <td>s185</td>\n",
              "      <td>Capomulin</td>\n",
              "      <td>Female</td>\n",
              "      <td>3</td>\n",
              "      <td>17</td>\n",
              "      <td>45</td>\n",
              "      <td>23.343598</td>\n",
              "      <td>1</td>\n",
              "    </tr>\n",
              "    <tr>\n",
              "      <th>29</th>\n",
              "      <td>x401</td>\n",
              "      <td>Capomulin</td>\n",
              "      <td>Female</td>\n",
              "      <td>16</td>\n",
              "      <td>15</td>\n",
              "      <td>45</td>\n",
              "      <td>28.484033</td>\n",
              "      <td>0</td>\n",
              "    </tr>\n",
              "    <tr>\n",
              "      <th>39</th>\n",
              "      <td>m601</td>\n",
              "      <td>Capomulin</td>\n",
              "      <td>Male</td>\n",
              "      <td>22</td>\n",
              "      <td>17</td>\n",
              "      <td>45</td>\n",
              "      <td>28.430964</td>\n",
              "      <td>1</td>\n",
              "    </tr>\n",
              "    <tr>\n",
              "      <th>49</th>\n",
              "      <td>g791</td>\n",
              "      <td>Ramicane</td>\n",
              "      <td>Male</td>\n",
              "      <td>11</td>\n",
              "      <td>16</td>\n",
              "      <td>45</td>\n",
              "      <td>29.128472</td>\n",
              "      <td>1</td>\n",
              "    </tr>\n",
              "    <tr>\n",
              "      <th>...</th>\n",
              "      <td>...</td>\n",
              "      <td>...</td>\n",
              "      <td>...</td>\n",
              "      <td>...</td>\n",
              "      <td>...</td>\n",
              "      <td>...</td>\n",
              "      <td>...</td>\n",
              "      <td>...</td>\n",
              "    </tr>\n",
              "    <tr>\n",
              "      <th>1859</th>\n",
              "      <td>z314</td>\n",
              "      <td>Stelasyn</td>\n",
              "      <td>Female</td>\n",
              "      <td>21</td>\n",
              "      <td>28</td>\n",
              "      <td>5</td>\n",
              "      <td>45.934712</td>\n",
              "      <td>0</td>\n",
              "    </tr>\n",
              "    <tr>\n",
              "      <th>1862</th>\n",
              "      <td>z435</td>\n",
              "      <td>Propriva</td>\n",
              "      <td>Female</td>\n",
              "      <td>12</td>\n",
              "      <td>26</td>\n",
              "      <td>10</td>\n",
              "      <td>48.710661</td>\n",
              "      <td>0</td>\n",
              "    </tr>\n",
              "    <tr>\n",
              "      <th>1872</th>\n",
              "      <td>z581</td>\n",
              "      <td>Infubinol</td>\n",
              "      <td>Female</td>\n",
              "      <td>24</td>\n",
              "      <td>25</td>\n",
              "      <td>45</td>\n",
              "      <td>62.754451</td>\n",
              "      <td>3</td>\n",
              "    </tr>\n",
              "    <tr>\n",
              "      <th>1882</th>\n",
              "      <td>z795</td>\n",
              "      <td>Naftisol</td>\n",
              "      <td>Female</td>\n",
              "      <td>13</td>\n",
              "      <td>29</td>\n",
              "      <td>45</td>\n",
              "      <td>65.741070</td>\n",
              "      <td>3</td>\n",
              "    </tr>\n",
              "    <tr>\n",
              "      <th>1892</th>\n",
              "      <td>z969</td>\n",
              "      <td>Naftisol</td>\n",
              "      <td>Male</td>\n",
              "      <td>9</td>\n",
              "      <td>30</td>\n",
              "      <td>45</td>\n",
              "      <td>73.867845</td>\n",
              "      <td>4</td>\n",
              "    </tr>\n",
              "  </tbody>\n",
              "</table>\n",
              "<p>248 rows × 8 columns</p>\n",
              "</div>"
            ],
            "text/plain": [
              "     Mouse ID Drug Regimen  ... Tumor Volume (mm3)  Metastatic Sites\n",
              "9        k403     Ramicane  ...          22.050126                 1\n",
              "19       s185    Capomulin  ...          23.343598                 1\n",
              "29       x401    Capomulin  ...          28.484033                 0\n",
              "39       m601    Capomulin  ...          28.430964                 1\n",
              "49       g791     Ramicane  ...          29.128472                 1\n",
              "...       ...          ...  ...                ...               ...\n",
              "1859     z314     Stelasyn  ...          45.934712                 0\n",
              "1862     z435     Propriva  ...          48.710661                 0\n",
              "1872     z581    Infubinol  ...          62.754451                 3\n",
              "1882     z795     Naftisol  ...          65.741070                 3\n",
              "1892     z969     Naftisol  ...          73.867845                 4\n",
              "\n",
              "[248 rows x 8 columns]"
            ]
          },
          "metadata": {
            "tags": []
          },
          "execution_count": 115
        }
      ]
    },
    {
      "cell_type": "code",
      "metadata": {
        "colab": {
          "base_uri": "https://localhost:8080/"
        },
        "id": "v314LBrh1dbT",
        "outputId": "3ef9cb85-8002-4e24-e623-ace7ef78e75e"
      },
      "source": [
        "# Put treatments into a list for for loop (and later for plot labels)\n",
        "treatments = [\"Capomulin\", \"Ramicane\", \"Infubinol\", \"Ceftamin\"]\n",
        "\n",
        "# Create empty list to fill with tumor vol data (for plotting)\n",
        "## Not neccesary with the approach taken\n",
        "\n",
        "# Calculate the IQR and quantitatively determine if there are any potential outliers. \n",
        "    \n",
        "    # Locate the rows which contain mice on each drug and get the tumor volumes\n",
        "CapomulinData = cleaneddata2.drop(cleaneddata2.loc[cleaneddata2[\"Drug Regimen\"] != \"Capomulin\"].index)\n",
        "RamicaneData = cleaneddata2.drop(cleaneddata2.loc[cleaneddata2[\"Drug Regimen\"] != \"Ramicane\"].index)\n",
        "InfubinolData = cleaneddata2.drop(cleaneddata2.loc[cleaneddata2[\"Drug Regimen\"] != \"Infubinol\"].index)\n",
        "CeftaminData = cleaneddata2.drop(cleaneddata2.loc[cleaneddata2[\"Drug Regimen\"] != \"Ceftamin\"].index)  \n",
        "    \n",
        "    # Determine outliers using upper and lower bounds\n",
        "\n",
        "## Upper and Lower Bounds for Capomulin ...\n",
        "q1 = CapomulinData[\"Tumor Volume (mm3)\"].quantile(0.25)\n",
        "q3 = CapomulinData[\"Tumor Volume (mm3)\"].quantile(0.75)\n",
        "iqr = q3 - q1\n",
        "ubound = q3 + 1.5 * iqr\n",
        "lbound = q1 - 1.5 * iqr\n",
        "\n",
        "## Print outliers for Capomulin ...\n",
        "print(\" Outliers for Capomulin ...\")\n",
        "outliers = CapomulinData.loc[CapomulinData[\"Tumor Volume (mm3)\"] > ubound]\n",
        "if not outliers.empty:\n",
        "  print(outliers)\n",
        "outliers = CapomulinData.loc[CapomulinData[\"Tumor Volume (mm3)\"] < lbound]\n",
        "if not outliers.empty:\n",
        "  print(outliers)\n",
        "\n",
        "## Upper and Lower Bounds for Ramicane ...\n",
        "q1 = RamicaneData[\"Tumor Volume (mm3)\"].quantile(0.25)\n",
        "q3 = RamicaneData[\"Tumor Volume (mm3)\"].quantile(0.75)\n",
        "iqr = q3 - q1\n",
        "ubound = q3 + 1.5 * iqr\n",
        "lbound = q1 - 1.5 * iqr\n",
        "\n",
        "## Print outliers for Ramicane ...\n",
        "print(\"\\n Outliers for Ramicane ...\")\n",
        "outliers = RamicaneData.loc[RamicaneData[\"Tumor Volume (mm3)\"] > ubound]\n",
        "if not outliers.empty:\n",
        "  print(outliers)\n",
        "outliers = RamicaneData.loc[RamicaneData[\"Tumor Volume (mm3)\"] < lbound]\n",
        "if not outliers.empty:\n",
        "  print(outliers)\n",
        "\n",
        "## Upper and Lower Bounds for Infubinol ...\n",
        "q1 = InfubinolData[\"Tumor Volume (mm3)\"].quantile(0.25)\n",
        "q3 = InfubinolData[\"Tumor Volume (mm3)\"].quantile(0.75)\n",
        "iqr = q3 - q1\n",
        "ubound = q3 + 1.5 * iqr\n",
        "lbound = q1 - 1.5 * iqr\n",
        "\n",
        "## Print outliers for Infubinol ...\n",
        "print(\"\\n Outliers for Infubinol ...\")\n",
        "outliers = InfubinolData.loc[InfubinolData[\"Tumor Volume (mm3)\"] > ubound]\n",
        "if not outliers.empty:\n",
        "  print(outliers)\n",
        "outliers = InfubinolData.loc[InfubinolData[\"Tumor Volume (mm3)\"] < lbound]\n",
        "if not outliers.empty:\n",
        "  print(outliers)\n",
        "\n",
        "## Upper and Lower Bounds for Ceftamin ...\n",
        "q1 = CeftaminData[\"Tumor Volume (mm3)\"].quantile(0.25)\n",
        "q3 = CeftaminData[\"Tumor Volume (mm3)\"].quantile(0.75)\n",
        "iqr = q3 - q1\n",
        "ubound = q3 + 1.5 * iqr\n",
        "lbound = q1 - 1.5 * iqr\n",
        "\n",
        "## Print outliers for Ceftamin ...\n",
        "print(\"\\n Outliers for Ceftamin ...\")\n",
        "outliers = CeftaminData.loc[CeftaminData[\"Tumor Volume (mm3)\"] > ubound]\n",
        "if not outliers.empty:\n",
        "  print(outliers)\n",
        "outliers = CeftaminData.loc[CeftaminData[\"Tumor Volume (mm3)\"] < lbound]\n",
        "if not outliers.empty:\n",
        "  print(outliers)"
      ],
      "execution_count": 145,
      "outputs": [
        {
          "output_type": "stream",
          "text": [
            " Outliers for Capomulin ...\n",
            "\n",
            " Outliers for Ramicane ...\n",
            "\n",
            " Outliers for Infubinol ...\n",
            "    Mouse ID Drug Regimen  ... Tumor Volume (mm3)  Metastatic Sites\n",
            "669     c326    Infubinol  ...          36.321346                 0\n",
            "\n",
            "[1 rows x 8 columns]\n",
            "\n",
            " Outliers for Ceftamin ...\n"
          ],
          "name": "stdout"
        }
      ]
    },
    {
      "cell_type": "code",
      "metadata": {
        "colab": {
          "base_uri": "https://localhost:8080/",
          "height": 312
        },
        "id": "860l187z1dbT",
        "outputId": "2747abea-2e36-4b77-eba5-d8ccaf006046"
      },
      "source": [
        "# Generate a box plot of the final tumor volume of each mouse across four regimens of interest and highlight any potential outliers in the plot by changing their color and style.\n",
        "plt.boxplot([CapomulinData[\"Tumor Volume (mm3)\"],\n",
        "             RamicaneData[\"Tumor Volume (mm3)\"],\n",
        "             InfubinolData[\"Tumor Volume (mm3)\"],\n",
        "             CeftaminData[\"Tumor Volume (mm3)\"]], \n",
        "            labels=treatments, \n",
        "            flierprops=dict(marker='o', markerfacecolor='red'))\n",
        "\n",
        "## Display box plot\n",
        "plt.grid()\n",
        "plt.title(\"Box plot of Final Tumor Volume\")\n",
        "plt.ylabel(\"Final Tumor Volume\")\n",
        "plt.xlabel(\"Drug Regimen\")"
      ],
      "execution_count": 205,
      "outputs": [
        {
          "output_type": "execute_result",
          "data": {
            "text/plain": [
              "Text(0.5, 0, 'Drug Regimen')"
            ]
          },
          "metadata": {
            "tags": []
          },
          "execution_count": 205
        },
        {
          "output_type": "display_data",
          "data": {
            "image/png": "[encoded data removed]",
            "text/plain": [
              "<Figure size 432x288 with 1 Axes>"
            ]
          },
          "metadata": {
            "tags": [],
            "needs_background": "light"
          }
        }
      ]
    },
    {
      "cell_type": "markdown",
      "metadata": {
        "id": "E408eI1X1dbT"
      },
      "source": [
        "## Line and Scatter Plots"
      ]
    },
    {
      "cell_type": "code",
      "metadata": {
        "colab": {
          "base_uri": "https://localhost:8080/",
          "height": 312
        },
        "id": "kxRLHrgs1dbU",
        "outputId": "143a1b08-b12c-42c8-858b-7b29bb0560d2"
      },
      "source": [
        "# Generate a line plot of tumor volume vs. time point for a mouse treated with Capomulin\n",
        "\n",
        "## Filter the data to retrieve only the mice treated with the Capomulin regimen\n",
        "lineplotdata = cleaneddata.drop(cleaneddata.loc[cleaneddata[\"Drug Regimen\"] != \"Capomulin\"].index)\n",
        "\n",
        "## Filter the data to retrieve only Mouse ID i557\n",
        "lineplotdata = cleaneddata.drop(cleaneddata.loc[cleaneddata[\"Mouse ID\"] != \"i557\"].index)\n",
        "\n",
        "## Generate and display line plot\n",
        "plt.plot(lineplotdata[\"Timepoint\"], lineplotdata[\"Tumor Volume (mm3)\"])\n",
        "plt.title(\"Tumor Volume vs Timepoint\")\n",
        "plt.ylabel(\"Tumor Volume\")\n",
        "plt.xlabel(\"Timepoint\")"
      ],
      "execution_count": 203,
      "outputs": [
        {
          "output_type": "execute_result",
          "data": {
            "text/plain": [
              "Text(0.5, 0, 'Timepoint')"
            ]
          },
          "metadata": {
            "tags": []
          },
          "execution_count": 203
        },
        {
          "output_type": "display_data",
          "data": {
            "image/png": "[encoded data removed]",
            "text/plain": [
              "<Figure size 432x288 with 1 Axes>"
            ]
          },
          "metadata": {
            "tags": [],
            "needs_background": "light"
          }
        }
      ]
    },
    {
      "cell_type": "code",
      "metadata": {
        "colab": {
          "base_uri": "https://localhost:8080/",
          "height": 312
        },
        "id": "PBgNL5SZ1dbU",
        "outputId": "85bda3c4-08eb-479e-b8df-ac467196fc80"
      },
      "source": [
        "# Generate a scatter plot of average tumor volume vs. mouse weight for the Capomulin regimen\n",
        "\n",
        "## Filter the data to retrieve only the mice treated with the Capomulin regimen\n",
        "scatterplotdata = cleaneddata.drop(cleaneddata.loc[cleaneddata[\"Drug Regimen\"] != \"Capomulin\"].index)\n",
        "\n",
        "## Calculate average tumor volume per mouse\n",
        "tumordata = scatterplotdata.groupby(\"Mouse ID\", as_index=False)[\"Tumor Volume (mm3)\"].mean()\n",
        "\n",
        "## Retrieve mouse weight data and drop duplicates\n",
        "mouseweight = scatterplotdata[[\"Mouse ID\",\"Weight (g)\"]]\n",
        "mouseweight = mouseweight.drop_duplicates(inplace=False)\n",
        "\n",
        "## Add mouse weight to the average tumor volume per mouse\n",
        "scatterplotdata = pd.merge(tumordata, mouseweight, on=\"Mouse ID\", how=\"outer\")\n",
        "\n",
        "## Generate and display scatter plot\n",
        "plt.scatter(scatterplotdata[\"Weight (g)\"], scatterplotdata[\"Tumor Volume (mm3)\"])\n",
        "plt.title(\"Average Tumor Volume vs Weight\")\n",
        "plt.ylabel(\"Average Tumor Volume\")\n",
        "plt.xlabel(\"Weight\")"
      ],
      "execution_count": 204,
      "outputs": [
        {
          "output_type": "execute_result",
          "data": {
            "text/plain": [
              "Text(0.5, 0, 'Weight')"
            ]
          },
          "metadata": {
            "tags": []
          },
          "execution_count": 204
        },
        {
          "output_type": "display_data",
          "data": {
            "image/png": "[encoded data removed]",
            "text/plain": [
              "<Figure size 432x288 with 1 Axes>"
            ]
          },
          "metadata": {
            "tags": [],
            "needs_background": "light"
          }
        }
      ]
    },
    {
      "cell_type": "markdown",
      "metadata": {
        "id": "gzHqDvqY1dbU"
      },
      "source": [
        "## Correlation and Regression"
      ]
    },
    {
      "cell_type": "code",
      "metadata": {
        "id": "XlpsBHhS1dbU"
      },
      "source": [
        "# Calculate the correlation coefficient and linear regression model \n",
        "# for mouse weight and average tumor volume for the Capomulin regimen\n",
        "\n",
        "## Calculating and printing the correlation coefficient\n",
        "print(\"Correlation Coefficient ...\")\n",
        "print(scatterplotdata[[\"Weight (g)\", \"Tumor Volume (mm3)\"]].corr())\n",
        "\n",
        "## Calculating and printing the linear regression model\n",
        "print(\"\")\n",
        "print(\"Linear Regression Model ...\")\n",
        "print(st.linregress(scatterplotdata[[\"Weight (g)\", \"Tumor Volume (mm3)\"]]))"
      ],
      "execution_count": null,
      "outputs": []
    }
  ]
}